{
 "cells": [
  {
   "cell_type": "code",
   "execution_count": 238,
   "metadata": {},
   "outputs": [],
   "source": [
    "import numpy as np\n",
    "import pandas as pd\n",
    "import seaborn as sns\n",
    "import matplotlib.pyplot as plt\n",
    "from matplotlib import rcParams"
   ]
  },
  {
   "cell_type": "markdown",
   "metadata": {},
   "source": [
    "Reading dataset"
   ]
  },
  {
   "cell_type": "code",
   "execution_count": 239,
   "metadata": {},
   "outputs": [],
   "source": [
    "df = pd.read_csv(\"Traffic_data.csv\")"
   ]
  },
  {
   "cell_type": "code",
   "execution_count": 240,
   "metadata": {},
   "outputs": [
    {
     "data": {
      "text/html": [
       "<div>\n",
       "<style scoped>\n",
       "    .dataframe tbody tr th:only-of-type {\n",
       "        vertical-align: middle;\n",
       "    }\n",
       "\n",
       "    .dataframe tbody tr th {\n",
       "        vertical-align: top;\n",
       "    }\n",
       "\n",
       "    .dataframe thead th {\n",
       "        text-align: right;\n",
       "    }\n",
       "</style>\n",
       "<table border=\"1\" class=\"dataframe\">\n",
       "  <thead>\n",
       "    <tr style=\"text-align: right;\">\n",
       "      <th></th>\n",
       "      <th>id</th>\n",
       "      <th>vehicle_count</th>\n",
       "      <th>arriving_time</th>\n",
       "      <th>Waiting_time</th>\n",
       "      <th>label</th>\n",
       "    </tr>\n",
       "  </thead>\n",
       "  <tbody>\n",
       "    <tr>\n",
       "      <th>0</th>\n",
       "      <td>NaN</td>\n",
       "      <td>NaN</td>\n",
       "      <td>NaN</td>\n",
       "      <td>NaN</td>\n",
       "      <td>NaN</td>\n",
       "    </tr>\n",
       "    <tr>\n",
       "      <th>1</th>\n",
       "      <td>0.0</td>\n",
       "      <td>37.0</td>\n",
       "      <td>11-01-20 7:11</td>\n",
       "      <td>3.0</td>\n",
       "      <td>0.0</td>\n",
       "    </tr>\n",
       "    <tr>\n",
       "      <th>2</th>\n",
       "      <td>NaN</td>\n",
       "      <td>NaN</td>\n",
       "      <td>NaN</td>\n",
       "      <td>NaN</td>\n",
       "      <td>NaN</td>\n",
       "    </tr>\n",
       "    <tr>\n",
       "      <th>3</th>\n",
       "      <td>1.0</td>\n",
       "      <td>94.0</td>\n",
       "      <td>23-07-17 18:31</td>\n",
       "      <td>22.0</td>\n",
       "      <td>2.0</td>\n",
       "    </tr>\n",
       "    <tr>\n",
       "      <th>4</th>\n",
       "      <td>NaN</td>\n",
       "      <td>NaN</td>\n",
       "      <td>NaN</td>\n",
       "      <td>NaN</td>\n",
       "      <td>NaN</td>\n",
       "    </tr>\n",
       "    <tr>\n",
       "      <th>5</th>\n",
       "      <td>2.0</td>\n",
       "      <td>34.0</td>\n",
       "      <td>10-08-16 12:33</td>\n",
       "      <td>24.0</td>\n",
       "      <td>2.0</td>\n",
       "    </tr>\n",
       "    <tr>\n",
       "      <th>6</th>\n",
       "      <td>NaN</td>\n",
       "      <td>NaN</td>\n",
       "      <td>NaN</td>\n",
       "      <td>NaN</td>\n",
       "      <td>NaN</td>\n",
       "    </tr>\n",
       "    <tr>\n",
       "      <th>7</th>\n",
       "      <td>3.0</td>\n",
       "      <td>51.0</td>\n",
       "      <td>30-12-13 22:30</td>\n",
       "      <td>25.0</td>\n",
       "      <td>2.0</td>\n",
       "    </tr>\n",
       "    <tr>\n",
       "      <th>8</th>\n",
       "      <td>NaN</td>\n",
       "      <td>NaN</td>\n",
       "      <td>NaN</td>\n",
       "      <td>NaN</td>\n",
       "      <td>NaN</td>\n",
       "    </tr>\n",
       "    <tr>\n",
       "      <th>9</th>\n",
       "      <td>4.0</td>\n",
       "      <td>34.0</td>\n",
       "      <td>31-12-16 22:10</td>\n",
       "      <td>25.0</td>\n",
       "      <td>2.0</td>\n",
       "    </tr>\n",
       "  </tbody>\n",
       "</table>\n",
       "</div>"
      ],
      "text/plain": [
       "    id  vehicle_count   arriving_time  Waiting_time  label\n",
       "0  NaN            NaN             NaN           NaN    NaN\n",
       "1  0.0           37.0   11-01-20 7:11           3.0    0.0\n",
       "2  NaN            NaN             NaN           NaN    NaN\n",
       "3  1.0           94.0  23-07-17 18:31          22.0    2.0\n",
       "4  NaN            NaN             NaN           NaN    NaN\n",
       "5  2.0           34.0  10-08-16 12:33          24.0    2.0\n",
       "6  NaN            NaN             NaN           NaN    NaN\n",
       "7  3.0           51.0  30-12-13 22:30          25.0    2.0\n",
       "8  NaN            NaN             NaN           NaN    NaN\n",
       "9  4.0           34.0  31-12-16 22:10          25.0    2.0"
      ]
     },
     "execution_count": 240,
     "metadata": {},
     "output_type": "execute_result"
    }
   ],
   "source": [
    "df.head(10)"
   ]
  },
  {
   "cell_type": "code",
   "execution_count": 241,
   "metadata": {},
   "outputs": [
    {
     "data": {
      "text/plain": [
       "<bound method DataFrame.info of            id  vehicle_count   arriving_time  Waiting_time  label\n",
       "0         NaN            NaN             NaN           NaN    NaN\n",
       "1         0.0           37.0   11-01-20 7:11           3.0    0.0\n",
       "2         NaN            NaN             NaN           NaN    NaN\n",
       "3         1.0           94.0  23-07-17 18:31          22.0    2.0\n",
       "4         NaN            NaN             NaN           NaN    NaN\n",
       "...       ...            ...             ...           ...    ...\n",
       "19921  9960.0           34.0   27-08-14 0:23          11.0    1.0\n",
       "19922     NaN            NaN             NaN           NaN    NaN\n",
       "19923  9961.0           33.0  01-12-17 18:51           8.0    0.0\n",
       "19924     NaN            NaN             NaN           NaN    NaN\n",
       "19925  9962.0           54.0  09-02-17 12:46          27.0    2.0\n",
       "\n",
       "[19926 rows x 5 columns]>"
      ]
     },
     "execution_count": 241,
     "metadata": {},
     "output_type": "execute_result"
    }
   ],
   "source": [
    "df.info\n"
   ]
  },
  {
   "cell_type": "markdown",
   "metadata": {},
   "source": [
    "Pre-Processing"
   ]
  },
  {
   "cell_type": "code",
   "execution_count": 242,
   "metadata": {},
   "outputs": [
    {
     "data": {
      "text/plain": [
       "True"
      ]
     },
     "execution_count": 242,
     "metadata": {},
     "output_type": "execute_result"
    }
   ],
   "source": [
    "df.isnull().values.any()"
   ]
  },
  {
   "cell_type": "code",
   "execution_count": 243,
   "metadata": {},
   "outputs": [
    {
     "data": {
      "text/plain": [
       "id               9963\n",
       "vehicle_count    9963\n",
       "arriving_time    9963\n",
       "Waiting_time     9963\n",
       "label            9963\n",
       "dtype: int64"
      ]
     },
     "execution_count": 243,
     "metadata": {},
     "output_type": "execute_result"
    }
   ],
   "source": [
    "df.isna().sum()"
   ]
  },
  {
   "cell_type": "code",
   "execution_count": 244,
   "metadata": {},
   "outputs": [],
   "source": [
    "df = df.dropna(how='any',axis=0) #dropping null values in the dataset"
   ]
  },
  {
   "cell_type": "code",
   "execution_count": 245,
   "metadata": {},
   "outputs": [
    {
     "data": {
      "text/html": [
       "<div>\n",
       "<style scoped>\n",
       "    .dataframe tbody tr th:only-of-type {\n",
       "        vertical-align: middle;\n",
       "    }\n",
       "\n",
       "    .dataframe tbody tr th {\n",
       "        vertical-align: top;\n",
       "    }\n",
       "\n",
       "    .dataframe thead th {\n",
       "        text-align: right;\n",
       "    }\n",
       "</style>\n",
       "<table border=\"1\" class=\"dataframe\">\n",
       "  <thead>\n",
       "    <tr style=\"text-align: right;\">\n",
       "      <th></th>\n",
       "      <th>id</th>\n",
       "      <th>vehicle_count</th>\n",
       "      <th>arriving_time</th>\n",
       "      <th>Waiting_time</th>\n",
       "      <th>label</th>\n",
       "    </tr>\n",
       "  </thead>\n",
       "  <tbody>\n",
       "    <tr>\n",
       "      <th>1</th>\n",
       "      <td>0.0</td>\n",
       "      <td>37.0</td>\n",
       "      <td>11-01-20 7:11</td>\n",
       "      <td>3.0</td>\n",
       "      <td>0.0</td>\n",
       "    </tr>\n",
       "    <tr>\n",
       "      <th>3</th>\n",
       "      <td>1.0</td>\n",
       "      <td>94.0</td>\n",
       "      <td>23-07-17 18:31</td>\n",
       "      <td>22.0</td>\n",
       "      <td>2.0</td>\n",
       "    </tr>\n",
       "    <tr>\n",
       "      <th>5</th>\n",
       "      <td>2.0</td>\n",
       "      <td>34.0</td>\n",
       "      <td>10-08-16 12:33</td>\n",
       "      <td>24.0</td>\n",
       "      <td>2.0</td>\n",
       "    </tr>\n",
       "    <tr>\n",
       "      <th>7</th>\n",
       "      <td>3.0</td>\n",
       "      <td>51.0</td>\n",
       "      <td>30-12-13 22:30</td>\n",
       "      <td>25.0</td>\n",
       "      <td>2.0</td>\n",
       "    </tr>\n",
       "    <tr>\n",
       "      <th>9</th>\n",
       "      <td>4.0</td>\n",
       "      <td>34.0</td>\n",
       "      <td>31-12-16 22:10</td>\n",
       "      <td>25.0</td>\n",
       "      <td>2.0</td>\n",
       "    </tr>\n",
       "    <tr>\n",
       "      <th>11</th>\n",
       "      <td>5.0</td>\n",
       "      <td>91.0</td>\n",
       "      <td>28-05-12 15:15</td>\n",
       "      <td>20.0</td>\n",
       "      <td>2.0</td>\n",
       "    </tr>\n",
       "    <tr>\n",
       "      <th>13</th>\n",
       "      <td>6.0</td>\n",
       "      <td>49.0</td>\n",
       "      <td>07-05-13 12:09</td>\n",
       "      <td>30.0</td>\n",
       "      <td>2.0</td>\n",
       "    </tr>\n",
       "    <tr>\n",
       "      <th>15</th>\n",
       "      <td>7.0</td>\n",
       "      <td>71.0</td>\n",
       "      <td>07-03-10 13:46</td>\n",
       "      <td>13.0</td>\n",
       "      <td>1.0</td>\n",
       "    </tr>\n",
       "    <tr>\n",
       "      <th>17</th>\n",
       "      <td>8.0</td>\n",
       "      <td>34.0</td>\n",
       "      <td>19-02-15 5:13</td>\n",
       "      <td>7.0</td>\n",
       "      <td>0.0</td>\n",
       "    </tr>\n",
       "    <tr>\n",
       "      <th>19</th>\n",
       "      <td>9.0</td>\n",
       "      <td>46.0</td>\n",
       "      <td>30-06-19 10:42</td>\n",
       "      <td>21.0</td>\n",
       "      <td>0.0</td>\n",
       "    </tr>\n",
       "  </tbody>\n",
       "</table>\n",
       "</div>"
      ],
      "text/plain": [
       "     id  vehicle_count   arriving_time  Waiting_time  label\n",
       "1   0.0           37.0   11-01-20 7:11           3.0    0.0\n",
       "3   1.0           94.0  23-07-17 18:31          22.0    2.0\n",
       "5   2.0           34.0  10-08-16 12:33          24.0    2.0\n",
       "7   3.0           51.0  30-12-13 22:30          25.0    2.0\n",
       "9   4.0           34.0  31-12-16 22:10          25.0    2.0\n",
       "11  5.0           91.0  28-05-12 15:15          20.0    2.0\n",
       "13  6.0           49.0  07-05-13 12:09          30.0    2.0\n",
       "15  7.0           71.0  07-03-10 13:46          13.0    1.0\n",
       "17  8.0           34.0   19-02-15 5:13           7.0    0.0\n",
       "19  9.0           46.0  30-06-19 10:42          21.0    0.0"
      ]
     },
     "execution_count": 245,
     "metadata": {},
     "output_type": "execute_result"
    }
   ],
   "source": [
    "df.head(10)"
   ]
  },
  {
   "cell_type": "code",
   "execution_count": 246,
   "metadata": {},
   "outputs": [
    {
     "name": "stdout",
     "output_type": "stream",
     "text": [
      "           id  vehicle_count   arriving_time  Waiting_time  label\n",
      "1         0.0           37.0   11-01-20 7:11           3.0    0.0\n",
      "3         1.0           94.0  23-07-17 18:31          22.0    2.0\n",
      "5         2.0           34.0  10-08-16 12:33          24.0    2.0\n",
      "7         3.0           51.0  30-12-13 22:30          25.0    2.0\n",
      "9         4.0           34.0  31-12-16 22:10          25.0    2.0\n",
      "...       ...            ...             ...           ...    ...\n",
      "19917  9958.0           64.0  19-01-19 19:29          12.0    1.0\n",
      "19919  9959.0           89.0   22-07-10 1:41          14.0    1.0\n",
      "19921  9960.0           34.0   27-08-14 0:23          11.0    1.0\n",
      "19923  9961.0           33.0  01-12-17 18:51           8.0    0.0\n",
      "19925  9962.0           54.0  09-02-17 12:46          27.0    2.0\n",
      "\n",
      "[9963 rows x 5 columns]\n"
     ]
    }
   ],
   "source": [
    "print(df)"
   ]
  },
  {
   "cell_type": "code",
   "execution_count": 247,
   "metadata": {},
   "outputs": [],
   "source": [
    "df = df.drop_duplicates() #droping duplicate entries"
   ]
  },
  {
   "cell_type": "code",
   "execution_count": 248,
   "metadata": {},
   "outputs": [
    {
     "data": {
      "text/plain": [
       "(9963, 5)"
      ]
     },
     "execution_count": 248,
     "metadata": {},
     "output_type": "execute_result"
    }
   ],
   "source": [
    "df.shape"
   ]
  },
  {
   "cell_type": "markdown",
   "metadata": {},
   "source": [
    "Data visulization"
   ]
  },
  {
   "cell_type": "code",
   "execution_count": 249,
   "metadata": {},
   "outputs": [
    {
     "name": "stderr",
     "output_type": "stream",
     "text": [
      "C:\\Users\\Administrator\\.conda\\envs\\TensorFlow\\lib\\site-packages\\seaborn\\_decorators.py:43: FutureWarning: Pass the following variable as a keyword arg: x. From version 0.12, the only valid positional argument will be `data`, and passing other arguments without an explicit keyword will result in an error or misinterpretation.\n",
      "  FutureWarning\n"
     ]
    },
    {
     "data": {
      "image/png": "[encoded data removed]",
      "text/plain": [
       "<Figure size 864x432 with 1 Axes>"
      ]
     },
     "metadata": {
      "needs_background": "light"
     },
     "output_type": "display_data"
    }
   ],
   "source": [
    "sns.countplot(df.vehicle_count)\n",
    "plt.title('plot for vehicle frequentcy')\n",
    "rcParams['figure.figsize'] = 8,4"
   ]
  },
  {
   "cell_type": "code",
   "execution_count": 250,
   "metadata": {},
   "outputs": [
    {
     "name": "stderr",
     "output_type": "stream",
     "text": [
      "C:\\Users\\Administrator\\.conda\\envs\\TensorFlow\\lib\\site-packages\\seaborn\\_decorators.py:43: FutureWarning: Pass the following variable as a keyword arg: x. From version 0.12, the only valid positional argument will be `data`, and passing other arguments without an explicit keyword will result in an error or misinterpretation.\n",
      "  FutureWarning\n"
     ]
    },
    {
     "data": {
      "image/png": "[encoded data removed]",
      "text/plain": [
       "<Figure size 576x288 with 1 Axes>"
      ]
     },
     "metadata": {
      "needs_background": "light"
     },
     "output_type": "display_data"
    }
   ],
   "source": [
    "sns.countplot(df.label)\n",
    "plt.title('plot for traffic intencity')\n",
    "rcParams['figure.figsize'] = 10,10"
   ]
  },
  {
   "cell_type": "code",
   "execution_count": 251,
   "metadata": {},
   "outputs": [
    {
     "data": {
      "text/plain": [
       "<matplotlib.axes._subplots.AxesSubplot at 0x1d949f9d248>"
      ]
     },
     "execution_count": 251,
     "metadata": {},
     "output_type": "execute_result"
    },
    {
     "data": {
      "image/png": "[encoded data removed]",
      "text/plain": [
       "<Figure size 864x432 with 1 Axes>"
      ]
     },
     "metadata": {
      "needs_background": "light"
     },
     "output_type": "display_data"
    }
   ],
   "source": [
    "rcParams['figure.figsize'] = 12,6\n",
    "df[['arriving_time','Waiting_time']].plot()"
   ]
  },
  {
   "cell_type": "code",
   "execution_count": 252,
   "metadata": {},
   "outputs": [],
   "source": [
    "continuous_parmas = ['vehicle_count','arriving_time','Waiting_time',]"
   ]
  },
  {
   "cell_type": "code",
   "execution_count": 253,
   "metadata": {},
   "outputs": [
    {
     "data": {
      "image/png": "[encoded data removed]",
      "text/plain": [
       "<Figure size 576x576 with 2 Axes>"
      ]
     },
     "metadata": {
      "needs_background": "light"
     },
     "output_type": "display_data"
    }
   ],
   "source": [
    "corr = df[continuous_parmas].corr()\n",
    "\n",
    "plt.figure(figsize=(8, 8))\n",
    "sns.heatmap(corr, annot=True, vmin=-1.0, cmap='mako')\n",
    "plt.show()"
   ]
  },
  {
   "cell_type": "code",
   "execution_count": 254,
   "metadata": {},
   "outputs": [
    {
     "data": {
      "image/png": "[encoded data removed]",
      "text/plain": [
       "<Figure size 864x1080 with 20 Axes>"
      ]
     },
     "metadata": {
      "needs_background": "light"
     },
     "output_type": "display_data"
    }
   ],
   "source": [
    "df[continuous_parmas].plot(kind='hist', bins=25, figsize=(12, 15), subplots=True, layout=(5, 4))\n",
    "plt.show()"
   ]
  },
  {
   "cell_type": "markdown",
   "metadata": {},
   "source": [
    "Distribute the data set into two sets"
   ]
  },
  {
   "cell_type": "code",
   "execution_count": 255,
   "metadata": {},
   "outputs": [
    {
     "data": {
      "text/html": [
       "<div>\n",
       "<style scoped>\n",
       "    .dataframe tbody tr th:only-of-type {\n",
       "        vertical-align: middle;\n",
       "    }\n",
       "\n",
       "    .dataframe tbody tr th {\n",
       "        vertical-align: top;\n",
       "    }\n",
       "\n",
       "    .dataframe thead th {\n",
       "        text-align: right;\n",
       "    }\n",
       "</style>\n",
       "<table border=\"1\" class=\"dataframe\">\n",
       "  <thead>\n",
       "    <tr style=\"text-align: right;\">\n",
       "      <th></th>\n",
       "      <th>vehicle_count</th>\n",
       "      <th>Waiting_time</th>\n",
       "    </tr>\n",
       "  </thead>\n",
       "  <tbody>\n",
       "    <tr>\n",
       "      <th>1</th>\n",
       "      <td>37.0</td>\n",
       "      <td>3.0</td>\n",
       "    </tr>\n",
       "    <tr>\n",
       "      <th>3</th>\n",
       "      <td>94.0</td>\n",
       "      <td>22.0</td>\n",
       "    </tr>\n",
       "    <tr>\n",
       "      <th>5</th>\n",
       "      <td>34.0</td>\n",
       "      <td>24.0</td>\n",
       "    </tr>\n",
       "    <tr>\n",
       "      <th>7</th>\n",
       "      <td>51.0</td>\n",
       "      <td>25.0</td>\n",
       "    </tr>\n",
       "    <tr>\n",
       "      <th>9</th>\n",
       "      <td>34.0</td>\n",
       "      <td>25.0</td>\n",
       "    </tr>\n",
       "    <tr>\n",
       "      <th>...</th>\n",
       "      <td>...</td>\n",
       "      <td>...</td>\n",
       "    </tr>\n",
       "    <tr>\n",
       "      <th>19917</th>\n",
       "      <td>64.0</td>\n",
       "      <td>12.0</td>\n",
       "    </tr>\n",
       "    <tr>\n",
       "      <th>19919</th>\n",
       "      <td>89.0</td>\n",
       "      <td>14.0</td>\n",
       "    </tr>\n",
       "    <tr>\n",
       "      <th>19921</th>\n",
       "      <td>34.0</td>\n",
       "      <td>11.0</td>\n",
       "    </tr>\n",
       "    <tr>\n",
       "      <th>19923</th>\n",
       "      <td>33.0</td>\n",
       "      <td>8.0</td>\n",
       "    </tr>\n",
       "    <tr>\n",
       "      <th>19925</th>\n",
       "      <td>54.0</td>\n",
       "      <td>27.0</td>\n",
       "    </tr>\n",
       "  </tbody>\n",
       "</table>\n",
       "<p>9963 rows × 2 columns</p>\n",
       "</div>"
      ],
      "text/plain": [
       "       vehicle_count  Waiting_time\n",
       "1               37.0           3.0\n",
       "3               94.0          22.0\n",
       "5               34.0          24.0\n",
       "7               51.0          25.0\n",
       "9               34.0          25.0\n",
       "...              ...           ...\n",
       "19917           64.0          12.0\n",
       "19919           89.0          14.0\n",
       "19921           34.0          11.0\n",
       "19923           33.0           8.0\n",
       "19925           54.0          27.0\n",
       "\n",
       "[9963 rows x 2 columns]"
      ]
     },
     "execution_count": 255,
     "metadata": {},
     "output_type": "execute_result"
    }
   ],
   "source": [
    "train_samples=df.drop(['id','label','arriving_time'], axis='columns')\n",
    "train_samples"
   ]
  },
  {
   "cell_type": "code",
   "execution_count": 256,
   "metadata": {},
   "outputs": [
    {
     "data": {
      "text/plain": [
       "1        0.0\n",
       "3        2.0\n",
       "5        2.0\n",
       "7        2.0\n",
       "9        2.0\n",
       "        ... \n",
       "19917    1.0\n",
       "19919    1.0\n",
       "19921    1.0\n",
       "19923    0.0\n",
       "19925    2.0\n",
       "Name: label, Length: 9963, dtype: float64"
      ]
     },
     "execution_count": 256,
     "metadata": {},
     "output_type": "execute_result"
    }
   ],
   "source": [
    "train_labels=df.label\n",
    "train_labels"
   ]
  },
  {
   "cell_type": "markdown",
   "metadata": {},
   "source": [
    "Data Normalization"
   ]
  },
  {
   "cell_type": "code",
   "execution_count": 257,
   "metadata": {},
   "outputs": [],
   "source": [
    "#data normalization\n",
    "from sklearn.preprocessing import MinMaxScaler\n",
    "from sklearn.preprocessing import OneHotEncoder"
   ]
  },
  {
   "cell_type": "code",
   "execution_count": 258,
   "metadata": {},
   "outputs": [
    {
     "data": {
      "text/plain": [
       "array([[0.1       , 0.06896552],\n",
       "       [0.91428571, 0.72413793],\n",
       "       [0.05714286, 0.79310345],\n",
       "       ...,\n",
       "       [0.05714286, 0.34482759],\n",
       "       [0.04285714, 0.24137931],\n",
       "       [0.34285714, 0.89655172]])"
      ]
     },
     "execution_count": 258,
     "metadata": {},
     "output_type": "execute_result"
    }
   ],
   "source": [
    "scaler = MinMaxScaler(feature_range=(0,1))\n",
    "x = scaler.fit_transform(train_samples)\n",
    "x"
   ]
  },
  {
   "cell_type": "code",
   "execution_count": 259,
   "metadata": {},
   "outputs": [],
   "source": [
    "train_labels = train_labels.astype('int')\n",
    "train_labels = train_labels.values.reshape(-1, 1)"
   ]
  },
  {
   "cell_type": "code",
   "execution_count": 260,
   "metadata": {},
   "outputs": [],
   "source": [
    "# scaler = MinMaxScaler(feature_range=(0,1))\n",
    "# y = scaler.fit_transform(train_labels)\n",
    "# y[1:20]"
   ]
  },
  {
   "cell_type": "code",
   "execution_count": 261,
   "metadata": {},
   "outputs": [
    {
     "data": {
      "text/plain": [
       "array([[1., 0., 0.],\n",
       "       [0., 0., 1.],\n",
       "       [0., 0., 1.],\n",
       "       ...,\n",
       "       [0., 1., 0.],\n",
       "       [1., 0., 0.],\n",
       "       [0., 0., 1.]])"
      ]
     },
     "execution_count": 261,
     "metadata": {},
     "output_type": "execute_result"
    }
   ],
   "source": [
    "#one-hot-encoding labels\n",
    "one_hot_encoder = OneHotEncoder(categories='auto')\n",
    "y = one_hot_encoder.fit_transform(train_labels.reshape(-1, 1)).toarray()\n",
    "y"
   ]
  },
  {
   "cell_type": "markdown",
   "metadata": {},
   "source": [
    "Trainng the data"
   ]
  },
  {
   "cell_type": "code",
   "execution_count": 262,
   "metadata": {},
   "outputs": [],
   "source": [
    "#ml libs\n",
    "import keras\n",
    "from keras import backend as K\n",
    "from keras.models import Sequential\n",
    "from keras. layers import Activation\n",
    "from keras.layers.core import Dense\n",
    "from keras.optimizers import Adam\n",
    "from keras.metrics import categorical_crossentropy\n",
    "from keras.utils import to_categorical"
   ]
  },
  {
   "cell_type": "code",
   "execution_count": 263,
   "metadata": {},
   "outputs": [],
   "source": [
    "from sklearn.model_selection import train_test_split\n",
    "X_train, X_test, y_train, y_test = train_test_split(x, y, test_size = 0.30)"
   ]
  },
  {
   "cell_type": "code",
   "execution_count": 264,
   "metadata": {},
   "outputs": [],
   "source": [
    "model = Sequential([\n",
    "    Dense(34, input_shape=[2,], activation='relu'),\n",
    "    Dense(20, activation='relu'),\n",
    "    Dense(10, activation='relu'),\n",
    "    Dense(3, activation='softmax')\n",
    "])"
   ]
  },
  {
   "cell_type": "code",
   "execution_count": 265,
   "metadata": {},
   "outputs": [
    {
     "name": "stdout",
     "output_type": "stream",
     "text": [
      "Model: \"sequential_4\"\n",
      "_________________________________________________________________\n",
      "Layer (type)                 Output Shape              Param #   \n",
      "=================================================================\n",
      "dense_13 (Dense)             (None, 34)                102       \n",
      "_________________________________________________________________\n",
      "dense_14 (Dense)             (None, 20)                700       \n",
      "_________________________________________________________________\n",
      "dense_15 (Dense)             (None, 10)                210       \n",
      "_________________________________________________________________\n",
      "dense_16 (Dense)             (None, 3)                 33        \n",
      "=================================================================\n",
      "Total params: 1,045\n",
      "Trainable params: 1,045\n",
      "Non-trainable params: 0\n",
      "_________________________________________________________________\n"
     ]
    }
   ],
   "source": [
    "model.summary()"
   ]
  },
  {
   "cell_type": "code",
   "execution_count": 266,
   "metadata": {},
   "outputs": [],
   "source": [
    "model.compile(Adam(lr=.0001),\n",
    "              loss='categorical_crossentropy',\n",
    "              metrics=['accuracy'])"
   ]
  },
  {
   "cell_type": "code",
   "execution_count": 268,
   "metadata": {},
   "outputs": [
    {
     "name": "stdout",
     "output_type": "stream",
     "text": [
      "Train on 6276 samples, validate on 698 samples\n",
      "Epoch 1/30\n",
      " - 5s - loss: 1.0454 - accuracy: 0.4740 - val_loss: 0.9885 - val_accuracy: 0.6719\n",
      "Epoch 2/30\n",
      " - 4s - loss: 0.9399 - accuracy: 0.6869 - val_loss: 0.8841 - val_accuracy: 0.7192\n",
      "Epoch 3/30\n",
      " - 4s - loss: 0.8351 - accuracy: 0.7414 - val_loss: 0.7993 - val_accuracy: 0.7808\n",
      "Epoch 4/30\n",
      " - 4s - loss: 0.7526 - accuracy: 0.7865 - val_loss: 0.7413 - val_accuracy: 0.7994\n",
      "Epoch 5/30\n",
      " - 4s - loss: 0.6972 - accuracy: 0.8225 - val_loss: 0.7052 - val_accuracy: 0.8295\n",
      "Epoch 6/30\n",
      " - 4s - loss: 0.6629 - accuracy: 0.8446 - val_loss: 0.6831 - val_accuracy: 0.8410\n",
      "Epoch 7/30\n",
      " - 3s - loss: 0.6414 - accuracy: 0.8539 - val_loss: 0.6674 - val_accuracy: 0.8496\n",
      "Epoch 8/30\n",
      " - 5s - loss: 0.6253 - accuracy: 0.8598 - val_loss: 0.6529 - val_accuracy: 0.8567\n",
      "Epoch 9/30\n",
      " - 4s - loss: 0.6123 - accuracy: 0.8636 - val_loss: 0.6405 - val_accuracy: 0.8625\n",
      "Epoch 10/30\n",
      " - 4s - loss: 0.6000 - accuracy: 0.8646 - val_loss: 0.6277 - val_accuracy: 0.8668\n",
      "Epoch 11/30\n",
      " - 3s - loss: 0.5885 - accuracy: 0.8649 - val_loss: 0.6147 - val_accuracy: 0.8653\n",
      "Epoch 12/30\n",
      " - 5s - loss: 0.5769 - accuracy: 0.8649 - val_loss: 0.5997 - val_accuracy: 0.8653\n",
      "Epoch 13/30\n",
      " - 4s - loss: 0.5655 - accuracy: 0.8649 - val_loss: 0.5875 - val_accuracy: 0.8582\n",
      "Epoch 14/30\n",
      " - 3s - loss: 0.5541 - accuracy: 0.8660 - val_loss: 0.5720 - val_accuracy: 0.8653\n",
      "Epoch 15/30\n",
      " - 4s - loss: 0.5438 - accuracy: 0.8660 - val_loss: 0.5597 - val_accuracy: 0.8668\n",
      "Epoch 16/30\n",
      " - 4s - loss: 0.5339 - accuracy: 0.8655 - val_loss: 0.5474 - val_accuracy: 0.8668\n",
      "Epoch 17/30\n",
      " - 4s - loss: 0.5245 - accuracy: 0.8665 - val_loss: 0.5369 - val_accuracy: 0.8668\n",
      "Epoch 18/30\n",
      " - 4s - loss: 0.5160 - accuracy: 0.8663 - val_loss: 0.5256 - val_accuracy: 0.8668\n",
      "Epoch 19/30\n",
      " - 4s - loss: 0.5077 - accuracy: 0.8658 - val_loss: 0.5154 - val_accuracy: 0.8668\n",
      "Epoch 20/30\n",
      " - 5s - loss: 0.4995 - accuracy: 0.8663 - val_loss: 0.5034 - val_accuracy: 0.8682\n",
      "Epoch 21/30\n",
      " - 4s - loss: 0.4917 - accuracy: 0.8660 - val_loss: 0.4965 - val_accuracy: 0.8668\n",
      "Epoch 22/30\n",
      " - 4s - loss: 0.4845 - accuracy: 0.8658 - val_loss: 0.4851 - val_accuracy: 0.8682\n",
      "Epoch 23/30\n",
      " - 3s - loss: 0.4781 - accuracy: 0.8662 - val_loss: 0.4778 - val_accuracy: 0.8682\n",
      "Epoch 24/30\n",
      " - 4s - loss: 0.4719 - accuracy: 0.8663 - val_loss: 0.4716 - val_accuracy: 0.8682\n",
      "Epoch 25/30\n",
      " - 3s - loss: 0.4665 - accuracy: 0.8660 - val_loss: 0.4643 - val_accuracy: 0.8682\n",
      "Epoch 26/30\n",
      " - 3s - loss: 0.4608 - accuracy: 0.8662 - val_loss: 0.4585 - val_accuracy: 0.8682\n",
      "Epoch 27/30\n",
      " - 4s - loss: 0.4559 - accuracy: 0.8663 - val_loss: 0.4516 - val_accuracy: 0.8682\n",
      "Epoch 28/30\n",
      " - 4s - loss: 0.4514 - accuracy: 0.8662 - val_loss: 0.4473 - val_accuracy: 0.8682\n",
      "Epoch 29/30\n",
      " - 4s - loss: 0.4469 - accuracy: 0.8662 - val_loss: 0.4431 - val_accuracy: 0.8682\n",
      "Epoch 30/30\n",
      " - 4s - loss: 0.4432 - accuracy: 0.8662 - val_loss: 0.4417 - val_accuracy: 0.8682\n"
     ]
    }
   ],
   "source": [
    "ANN_MODEL = model.fit(X_train, y_train, validation_split=0.1, batch_size=10, epochs=30, shuffle=True, verbose=2)"
   ]
  },
  {
   "cell_type": "code",
   "execution_count": 269,
   "metadata": {},
   "outputs": [],
   "source": [
    "from sklearn.metrics import accuracy_score, confusion_matrix, classification_report, f1_score"
   ]
  },
  {
   "cell_type": "code",
   "execution_count": 270,
   "metadata": {},
   "outputs": [],
   "source": [
    "def print_score(label, prediction, train=True):\n",
    "    if train:\n",
    "        clf_report = pd.DataFrame(classification_report(label, prediction, output_dict=True))\n",
    "        print(\"Train Result:\\n================================================\")\n",
    "        print(f\"Accuracy Score: {accuracy_score(label, prediction) * 100:.2f}%\")\n",
    "        print(\"_______________________________________________\")\n",
    "        print(f\"Classification Report:\\n{clf_report}\")\n",
    "        print(\"_______________________________________________\")\n",
    "        print(f\"Confusion Matrix: \\n {confusion_matrix(label.argmax(axis=1), prediction.argmax(axis=1))}\\n\")\n",
    "        \n",
    "    elif train==False:\n",
    "        clf_report = pd.DataFrame(classification_report(label, prediction, output_dict=True))\n",
    "        print(\"Test Result:\\n================================================\")        \n",
    "        print(f\"Accuracy Score: {accuracy_score(label, prediction) * 100:.2f}%\")\n",
    "        print(\"_______________________________________________\")\n",
    "        print(f\"Classification Report:\\n{clf_report}\")\n",
    "        print(\"_______________________________________________\")\n",
    "        print(f\"Confusion Matrix: \\n {confusion_matrix(label.argmax(axis=1), prediction.argmax(axis=1))}\\n\") "
   ]
  },
  {
   "cell_type": "code",
   "execution_count": 271,
   "metadata": {},
   "outputs": [],
   "source": [
    "y_train_pred = model.predict(X_train)\n",
    "y_test_pred = model.predict(X_test)"
   ]
  },
  {
   "cell_type": "code",
   "execution_count": 273,
   "metadata": {},
   "outputs": [
    {
     "name": "stdout",
     "output_type": "stream",
     "text": [
      "Train Result:\n",
      "================================================\n",
      "Accuracy Score: 86.01%\n",
      "_______________________________________________\n",
      "Classification Report:\n",
      "                     0            1            2    micro avg    macro avg  \\\n",
      "precision     0.874513     0.867136     0.890764     0.877414     0.877471   \n",
      "recall        0.861099     0.862205     0.856899     0.860052     0.860068   \n",
      "f1-score      0.867754     0.864663     0.873503     0.868646     0.868640   \n",
      "support    2347.000000  2286.000000  2341.000000  6974.000000  6974.000000   \n",
      "\n",
      "           weighted avg  samples avg  \n",
      "precision      0.877550     0.860052  \n",
      "recall         0.860052     0.860052  \n",
      "f1-score       0.868671     0.860052  \n",
      "support     6974.000000  6974.000000  \n",
      "_______________________________________________\n",
      "Confusion Matrix: \n",
      " [[2077  144  126]\n",
      " [ 195 1971  120]\n",
      " [ 177  158 2006]]\n",
      "\n",
      "Test Result:\n",
      "================================================\n",
      "Accuracy Score: 87.05%\n",
      "_______________________________________________\n",
      "Classification Report:\n",
      "                    0            1           2    micro avg    macro avg  \\\n",
      "precision    0.869870     0.885572    0.901604     0.885335     0.885682   \n",
      "recall       0.876892     0.873405    0.861083     0.870525     0.870460   \n",
      "f1-score     0.873367     0.879447    0.880878     0.877868     0.877897   \n",
      "support    991.000000  1019.000000  979.000000  2989.000000  2989.000000   \n",
      "\n",
      "           weighted avg  samples avg  \n",
      "precision      0.885617     0.870525  \n",
      "recall         0.870525     0.870525  \n",
      "f1-score       0.877900     0.870525  \n",
      "support     2989.000000  2989.000000  \n",
      "_______________________________________________\n",
      "Confusion Matrix: \n",
      " [[890  55  46]\n",
      " [ 83 890  46]\n",
      " [ 76  60 843]]\n",
      "\n"
     ]
    },
    {
     "name": "stderr",
     "output_type": "stream",
     "text": [
      "C:\\Users\\Administrator\\.conda\\envs\\TensorFlow\\lib\\site-packages\\sklearn\\metrics\\_classification.py:1272: UndefinedMetricWarning: Precision and F-score are ill-defined and being set to 0.0 in samples with no predicted labels. Use `zero_division` parameter to control this behavior.\n",
      "  _warn_prf(average, modifier, msg_start, len(result))\n",
      "C:\\Users\\Administrator\\.conda\\envs\\TensorFlow\\lib\\site-packages\\sklearn\\metrics\\_classification.py:1272: UndefinedMetricWarning: Precision and F-score are ill-defined and being set to 0.0 in samples with no predicted labels. Use `zero_division` parameter to control this behavior.\n",
      "  _warn_prf(average, modifier, msg_start, len(result))\n"
     ]
    }
   ],
   "source": [
    "print_score(y_train, y_train_pred.round(), train=True)\n",
    "print_score(y_test, y_test_pred.round(), train=False)"
   ]
  },
  {
   "cell_type": "code",
   "execution_count": 274,
   "metadata": {},
   "outputs": [],
   "source": [
    "def plot_confusion_matrix(cm,\n",
    "                          target_names,\n",
    "                          title='Confusion matrix',\n",
    "                          cmap=None,\n",
    "                          normalize=True):\n",
    "    \"\"\"\n",
    "    given a sklearn confusion matrix (cm), make a nice plot\n",
    "\n",
    "    Arguments\n",
    "    ---------\n",
    "    cm:           confusion matrix from sklearn.metrics.confusion_matrix\n",
    "\n",
    "    target_names: given classification classes such as [0, 1, 2]\n",
    "                  the class names, for example: ['high', 'medium', 'low']\n",
    "\n",
    "    title:        the text to display at the top of the matrix\n",
    "\n",
    "    cmap:         the gradient of the values displayed from matplotlib.pyplot.cm\n",
    "                  see http://matplotlib.org/examples/color/colormaps_reference.html\n",
    "                  plt.get_cmap('jet') or plt.cm.Blues\n",
    "\n",
    "    normalize:    If False, plot the raw numbers\n",
    "                  If True, plot the proportions\n",
    "\n",
    "    Usage\n",
    "    -----\n",
    "    plot_confusion_matrix(cm           = cm,                  # confusion matrix created by\n",
    "                                                              # sklearn.metrics.confusion_matrix\n",
    "                          normalize    = True,                # show proportions\n",
    "                          target_names = y_labels_vals,       # list of names of the classes\n",
    "                          title        = best_estimator_name) # title of graph\n",
    "\n",
    "    Citiation\n",
    "    ---------\n",
    "    http://scikit-learn.org/stable/auto_examples/model_selection/plot_confusion_matrix.html\n",
    "\n",
    "    \"\"\"\n",
    "    import matplotlib.pyplot as plt\n",
    "    import numpy as np\n",
    "    import itertools\n",
    "\n",
    "    accuracy = np.trace(cm) / float(np.sum(cm))\n",
    "    misclass = 1 - accuracy\n",
    "\n",
    "    if cmap is None:\n",
    "        cmap = plt.get_cmap('Blues')\n",
    "\n",
    "    plt.figure(figsize=(8, 6))\n",
    "    plt.imshow(cm, interpolation='nearest', cmap=cmap)\n",
    "    plt.title(title)\n",
    "    plt.colorbar()\n",
    "\n",
    "    if target_names is not None:\n",
    "        tick_marks = np.arange(len(target_names))\n",
    "        plt.xticks(tick_marks, target_names, rotation=45)\n",
    "        plt.yticks(tick_marks, target_names)\n",
    "\n",
    "    if normalize:\n",
    "        cm = cm.astype('float') / cm.sum(axis=1)[:, np.newaxis]\n",
    "\n",
    "\n",
    "    thresh = cm.max() / 1.5 if normalize else cm.max() / 2\n",
    "    for i, j in itertools.product(range(cm.shape[0]), range(cm.shape[1])):\n",
    "        if normalize:\n",
    "            plt.text(j, i, \"{:0.4f}\".format(cm[i, j]),\n",
    "                     horizontalalignment=\"center\",\n",
    "                     color=\"white\" if cm[i, j] > thresh else \"black\")\n",
    "        else:\n",
    "            plt.text(j, i, \"{:,}\".format(cm[i, j]),\n",
    "                     horizontalalignment=\"center\",\n",
    "                     color=\"white\" if cm[i, j] > thresh else \"black\")\n",
    "\n",
    "\n",
    "    plt.tight_layout()\n",
    "    plt.ylabel('True label')\n",
    "    plt.xlabel('Predicted label\\naccuracy={:0.4f}; misclass={:0.4f}'.format(accuracy, misclass))\n",
    "    plt.show()"
   ]
  },
  {
   "cell_type": "code",
   "execution_count": 275,
   "metadata": {},
   "outputs": [],
   "source": [
    "target_names = ['Low Intensity','Medium intensity','High intensity']"
   ]
  },
  {
   "cell_type": "code",
   "execution_count": null,
   "metadata": {},
   "outputs": [],
   "source": []
  }
 ],
 "metadata": {
  "kernelspec": {
   "display_name": "Python 3 (ipykernel)",
   "language": "python",
   "name": "python3"
  },
  "language_info": {
   "codemirror_mode": {
    "name": "ipython",
    "version": 3
   },
   "file_extension": ".py",
   "mimetype": "text/x-python",
   "name": "python",
   "nbconvert_exporter": "python",
   "pygments_lexer": "ipython3",
   "version": "3.11.0"
  }
 },
 "nbformat": 4,
 "nbformat_minor": 4
}
